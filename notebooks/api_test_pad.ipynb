{
 "cells": [
  {
   "cell_type": "code",
   "execution_count": 2,
   "id": "70608603",
   "metadata": {},
   "outputs": [],
   "source": [
    "from pydantic import BaseModel, Field"
   ]
  },
  {
   "cell_type": "code",
   "execution_count": 3,
   "id": "10e8df8f",
   "metadata": {},
   "outputs": [],
   "source": [
    "class PropulsionInput(BaseModel):\n",
    "    windSpeed: float = Field(..., example=4.19)\n",
    "    windDirection: float = Field(..., example=205.96)\n",
    "    waveHeight: float = Field(..., example=0.87)\n",
    "    waveDirection: float = Field(..., example=136.04)\n",
    "    swellHeight: float = Field(..., example=0.06)\n",
    "    swellDirection: float = Field(..., example=55.77)\n",
    "    currentSpeed: float = Field(..., example=0.07)\n",
    "    currentDirection: float = Field(..., example=159.73)\n",
    "    airTemperature: float = Field(..., example=25.65)\n",
    "    mainEngineMassFlowRate: float = Field(..., example=0.0)"
   ]
  },
  {
   "cell_type": "code",
   "execution_count": null,
   "id": "f87c0bdf",
   "metadata": {},
   "outputs": [],
   "source": []
  }
 ],
 "metadata": {
  "kernelspec": {
   "display_name": "ship_ml",
   "language": "python",
   "name": "python3"
  },
  "language_info": {
   "codemirror_mode": {
    "name": "ipython",
    "version": 3
   },
   "file_extension": ".py",
   "mimetype": "text/x-python",
   "name": "python",
   "nbconvert_exporter": "python",
   "pygments_lexer": "ipython3",
   "version": "3.13.2"
  }
 },
 "nbformat": 4,
 "nbformat_minor": 5
}
