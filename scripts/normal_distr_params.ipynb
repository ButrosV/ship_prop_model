{
 "cells": [
  {
   "cell_type": "code",
   "execution_count": 22,
   "id": "c6b14759",
   "metadata": {},
   "outputs": [],
   "source": [
    "import numpy as np\n",
    "from scipy.stats import norm"
   ]
  },
  {
   "cell_type": "code",
   "execution_count": 10,
   "id": "9262794c",
   "metadata": {},
   "outputs": [
    {
     "data": {
      "text/plain": [
       "np.float64(0.0)"
      ]
     },
     "execution_count": 10,
     "metadata": {},
     "output_type": "execute_result"
    }
   ],
   "source": [
    "np.floor(0.51)"
   ]
  },
  {
   "cell_type": "code",
   "execution_count": 13,
   "id": "2b864862",
   "metadata": {},
   "outputs": [
    {
     "data": {
      "text/plain": [
       "3125"
      ]
     },
     "execution_count": 13,
     "metadata": {},
     "output_type": "execute_result"
    }
   ],
   "source": [
    "5 ** 5"
   ]
  },
  {
   "cell_type": "code",
   "execution_count": 68,
   "id": "099f093a",
   "metadata": {},
   "outputs": [
    {
     "name": "stdout",
     "output_type": "stream",
     "text": [
      "[0.11111111 0.22222222 0.33333333 0.44444444 0.55555556 0.66666667\n",
      " 0.77777778 0.88888889]\n",
      "[18.22692778 18.51568387 18.72720604 18.91151681 19.08848319 19.27279396\n",
      " 19.48431613 19.77307222 17.1        20.9       ]\n"
     ]
    },
    {
     "data": {
      "text/plain": [
       "[17, 18, 19, 20, 21]"
      ]
     },
     "execution_count": 68,
     "metadata": {},
     "output_type": "execute_result"
    }
   ],
   "source": [
    "mean = 19\n",
    "range_factoor = mean * 0.1\n",
    "range_factoor\n",
    "std_approx = (range_factoor * 2) / 6\n",
    "norm_distr_points = std_approx\n",
    "percentiles = np.linspace(1e-5, 1-1e-5, 12, endpoint=True)\n",
    "percentiles = np.linspace(0,1,10,)[1:-1]\n",
    "print(percentiles)\n",
    "data_points = np.append(norm.ppf(percentiles, loc=mean, scale=std_approx), [mean - range_factoor, mean + range_factoor])\n",
    "print(data_points)\n",
    "list(set([int(np.floor(point)) if point <= mean else int(np.ceil(point)) for point in data_points] + [mean]))\n",
    "\n",
    "\n"
   ]
  },
  {
   "cell_type": "code",
   "execution_count": null,
   "id": "6c51d1b8",
   "metadata": {},
   "outputs": [],
   "source": []
  }
 ],
 "metadata": {
  "kernelspec": {
   "display_name": "ml_ship",
   "language": "python",
   "name": "python3"
  },
  "language_info": {
   "codemirror_mode": {
    "name": "ipython",
    "version": 3
   },
   "file_extension": ".py",
   "mimetype": "text/x-python",
   "name": "python",
   "nbconvert_exporter": "python",
   "pygments_lexer": "ipython3",
   "version": "3.13.2"
  }
 },
 "nbformat": 4,
 "nbformat_minor": 5
}
