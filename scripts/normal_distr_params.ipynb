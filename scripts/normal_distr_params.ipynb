{
 "cells": [
  {
   "cell_type": "code",
   "execution_count": 1,
   "id": "c6b14759",
   "metadata": {},
   "outputs": [],
   "source": [
    "import numpy as np\n",
    "from scipy.stats import norm"
   ]
  },
  {
   "cell_type": "code",
   "execution_count": 7,
   "id": "099f093a",
   "metadata": {},
   "outputs": [
    {
     "data": {
      "text/plain": [
       "[[17, 19, 21], [1.71, 1.9, 2.09]]"
      ]
     },
     "execution_count": 7,
     "metadata": {},
     "output_type": "execute_result"
    }
   ],
   "source": [
    "mean = 19\n",
    "output_points = 10\n",
    "range_proportion = 0.1\n",
    "\n",
    "def normal_distr_parameters(means:list, \n",
    "                            range_from_mean: float = 0.1, \n",
    "                            n_params: int = 5)->list:\n",
    "    \"\"\"\n",
    "    Generate parameter values around each mean with a normal distribution.\n",
    "    Approximate a normal distribution using a range based on a fraction of the mean.\n",
    "    Get data points within distance of 3 std from the mean.\n",
    "\n",
    "    :param means: List of mean values to base distributions on.\n",
    "    :param range_from_mean: Fraction of mean to define ±range and estimate\n",
    "                                standard deviation.\n",
    "    :param n_params: Number of percentile values to sample.\n",
    "    :return: List of sorted parameter values (int or float) per mean.\n",
    "    \"\"\"\n",
    "    percentiles = np.linspace(0,1, n_params)[1:-1]\n",
    "    result_list = []\n",
    "    for mean in means:\n",
    "        range_factoor = mean * range_from_mean\n",
    "        std_approx = (range_factoor * 2) / 6\n",
    "        \n",
    "        data_points = np.append(\n",
    "            norm.ppf(percentiles, loc=mean, scale=std_approx), \n",
    "            [mean - range_factoor, mean, mean + range_factoor]\n",
    "            )\n",
    "        if isinstance(mean, int):\n",
    "            param_list = list(set(\n",
    "                int(np.floor(point)) if point <= mean \\\n",
    "                else int(np.ceil(point)) for point in data_points))\n",
    "        else:\n",
    "            param_list = list(set(float(point) for point in data_points))\n",
    "\n",
    "        result_list.append(sorted(param_list))\n",
    "    \n",
    "    return result_list\n",
    "\n",
    "normal_distr_parameters(means=[19, 1.9], n_params=3)\n"
   ]
  },
  {
   "cell_type": "code",
   "execution_count": 14,
   "id": "304cc9af",
   "metadata": {},
   "outputs": [
    {
     "data": {
      "text/plain": [
       "np.float64(22.5)"
      ]
     },
     "execution_count": 14,
     "metadata": {},
     "output_type": "execute_result"
    }
   ],
   "source": [
    "np.median([18,19, 26, 190])"
   ]
  },
  {
   "cell_type": "code",
   "execution_count": null,
   "id": "6c51d1b8",
   "metadata": {},
   "outputs": [],
   "source": [
    "%time\n",
    "filename_rs = \"random_search_xgb.pkl\"\n",
    "model_path = Path(PATH_TO_MODEL + filename_rs)\n",
    "\n",
    "\n",
    "def param_search():\n",
    "    return None\n",
    "\n",
    "\n",
    "if model_path.is_file():\n",
    "    xgb_pipe_random = joblib.load(filename=model_path)\n",
    "else:\n",
    "    random_search_xgb = RandomizedSearchCV(\n",
    "        estimator= XGBRegressor(),\n",
    "        param_distributions = dict(\n",
    "            learning_rate=uniform(loc=0.5, scale=3),  # uniform distribution within the interval \n",
    "            n_estimators=randint(low=50, high=300),  # random int within the interval\n",
    "            max_depth=randint(low=2, high=20),\n",
    "            min_child_weight=uniform(loc=0.5, scale=3)\n",
    "        ), \n",
    "        n_iter=1,   # default = 10\n",
    "        verbose=2,\n",
    "        n_jobs=-1,\n",
    "        scoring='r2', \n",
    "    )\n",
    "\n",
    "    #TODO: reasess which model to use for applying hyper-param search\n",
    "    xgb_pipe_random = Pipeline(\n",
    "        steps=[\n",
    "            (\"engineer_features\", engineer_max_features),\n",
    "            (\"xgb_regressor\", RegressorChain(random_search_xgb))\n",
    "            ])\n",
    "\n",
    "    xgb_pipe_random.fit(X_train, y_train)\n",
    "    joblib.dump(value=xgb_pipe_random, filename=model_path)\n",
    "\n",
    "y_pred = xgb_pipe_random.predict(X_test)\n",
    "\n",
    "print(f\"Evaluation table for XGBoost model with randomized hyperparameter search.\")\n",
    "print(evaluation_tabel(\n",
    "    predictions=y_pred, \n",
    "    original_dataset_correlations=sorted_corr_80\n",
    "    ))"
   ]
  }
 ],
 "metadata": {
  "kernelspec": {
   "display_name": "ship_ml",
   "language": "python",
   "name": "python3"
  },
  "language_info": {
   "codemirror_mode": {
    "name": "ipython",
    "version": 3
   },
   "file_extension": ".py",
   "mimetype": "text/x-python",
   "name": "python",
   "nbconvert_exporter": "python",
   "pygments_lexer": "ipython3",
   "version": "3.13.2"
  }
 },
 "nbformat": 4,
 "nbformat_minor": 5
}
