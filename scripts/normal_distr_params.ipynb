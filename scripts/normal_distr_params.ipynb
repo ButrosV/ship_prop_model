{
 "cells": [
  {
   "cell_type": "code",
   "execution_count": 1,
   "id": "c6b14759",
   "metadata": {},
   "outputs": [],
   "source": [
    "import numpy as np\n",
    "from scipy.stats import norm"
   ]
  },
  {
   "cell_type": "code",
   "execution_count": 3,
   "id": "c0d2e030",
   "metadata": {},
   "outputs": [],
   "source": [
    "output = [{'learning_rate': np.float64(0.18391682407855314),\n",
    "  'max_depth': 11,\n",
    "  'min_child_weight': np.float64(14.072124623114522),\n",
    "  'n_estimators': 131},\n",
    " {'learning_rate': np.float64(0.17463505150156303),\n",
    "  'max_depth': 11,\n",
    "  'min_child_weight': np.float64(10.973032817555122),\n",
    "  'n_estimators': 118}]"
   ]
  },
  {
   "cell_type": "code",
   "execution_count": null,
   "id": "099f093a",
   "metadata": {},
   "outputs": [
    {
     "data": {
      "text/plain": [
       "{'learning_rate': [np.float64(0.18127622418087472),\n",
       "  np.float64(0.18391682407855314),\n",
       "  np.float64(0.18655742397623157),\n",
       "  np.float64(0.16552514167069782),\n",
       "  np.float64(0.20230850648640847)],\n",
       " 'max_depth': [9, 10, 11, 12, 13],\n",
       " 'min_child_weight': [np.float64(12.66491216080307),\n",
       "  np.float64(13.870083015305749),\n",
       "  np.float64(14.274166230923296),\n",
       "  np.float64(15.479337085425975),\n",
       "  np.float64(14.072124623114522)],\n",
       " 'n_estimators': [129, 131, 133, 145, 117]}"
      ]
     },
     "execution_count": 14,
     "metadata": {},
     "output_type": "execute_result"
    }
   ],
   "source": [
    "mean = 19\n",
    "output_points = 10\n",
    "range_proportion = 0.1\n",
    "\n",
    "def normal_distr_parameters(params_centers, \n",
    "                            range_from_mean: float = 0.1, \n",
    "                            n_params: int = 5)->list:\n",
    "    \"\"\"\n",
    "    Generate parameter values for each key in a dictionary (or list of dictionaries)\n",
    "    using an approximation of a normal distribution centered around the median value.\n",
    "    Generate parameter values around each mean with a normal distribution.\n",
    "    Approximate a normal distribution using a range based on a fraction of the new mean \n",
    "            (median of input parameter values).\n",
    "    Get data points within distance of 3 std from the new data point mean.\n",
    "    Integer values are rounded and kept as int type.\n",
    "\n",
    "    :param best_params: A dictionary or a list of dictionaries with numeric values\n",
    "                        (e.g. RandomizedSearchCV best parameter output for \n",
    "                            multi-target model with RegressorChain.)\n",
    "    :param range_from_mean: Fraction of the new mean to define range from which\n",
    "                            standard deviation is estimated (±range = mean * fraction).\n",
    "    :param n_params: Number of percentile-based values to sample from the normal \n",
    "                     distribution.\n",
    "    :return: A dictionary where each key maps to a list of unique sampled values\n",
    "             (as int or float), representing approximate normal distribution samples.\n",
    "    \"\"\"\n",
    "    percentiles = np.linspace(0,1, n_params)[1:-1]\n",
    "    if isinstance(params_centers, dict):\n",
    "        dict_list = [params_centers]\n",
    "    elif isinstance(params_centers, list) and all(isinstance(item, dict) for item in params_centers):\n",
    "        dict_list = params_centers\n",
    "    new_params = dict.fromkeys(dict_list[0].keys())\n",
    "    for key in new_params.keys():\n",
    "        new_params[key] = np.median([dict_list[param][key] for param in range(len(dict_list))])\n",
    "    \n",
    "    for key, mean in new_params.items():\n",
    "        range_factoor = mean * range_from_mean\n",
    "        std_approx = (range_factoor * 2) / 6\n",
    "        \n",
    "        data_points = np.append(\n",
    "            norm.ppf(percentiles, loc=mean, scale=std_approx), \n",
    "            [mean - range_factoor, mean, mean + range_factoor]\n",
    "            )\n",
    "        if isinstance(dict_list[0][key], int):\n",
    "            new_params[key] = list(set(\n",
    "                int(np.floor(point)) if point <= mean \\\n",
    "                else int(np.ceil(point)) for point in data_points))\n",
    "        else:\n",
    "            # new_params[key] = list(set(float(point) for point in data_points))\n",
    "            new_params[key] = list(set(data_points))\n",
    "    \n",
    "    return new_params\n",
    "\n",
    "normal_distr_parameters(params_centers=output, n_params=4)\n"
   ]
  },
  {
   "cell_type": "code",
   "execution_count": null,
   "id": "6c51d1b8",
   "metadata": {},
   "outputs": [
    {
     "name": "stdout",
     "output_type": "stream",
     "text": [
      "CPU times: total: 0 ns\n",
      "Wall time: 13.8 μs\n"
     ]
    },
    {
     "ename": "NameError",
     "evalue": "name 'Path' is not defined",
     "output_type": "error",
     "traceback": [
      "\u001b[31m---------------------------------------------------------------------------\u001b[39m",
      "\u001b[31mNameError\u001b[39m                                 Traceback (most recent call last)",
      "\u001b[36mCell\u001b[39m\u001b[36m \u001b[39m\u001b[32mIn[7]\u001b[39m\u001b[32m, line 3\u001b[39m\n\u001b[32m      1\u001b[39m get_ipython().run_line_magic(\u001b[33m'\u001b[39m\u001b[33mtime\u001b[39m\u001b[33m'\u001b[39m, \u001b[33m'\u001b[39m\u001b[33m'\u001b[39m)\n\u001b[32m      2\u001b[39m filename_rs = \u001b[33m\"\u001b[39m\u001b[33mrandom_search_xgb.pkl\u001b[39m\u001b[33m\"\u001b[39m\n\u001b[32m----> \u001b[39m\u001b[32m3\u001b[39m model_path = Path(PATH_TO_MODEL + filename_rs)\n\u001b[32m      6\u001b[39m \u001b[38;5;28;01mdef\u001b[39;00m\u001b[38;5;250m \u001b[39m\u001b[34mparam_search\u001b[39m():\n\u001b[32m      7\u001b[39m     \u001b[38;5;28;01mreturn\u001b[39;00m \u001b[38;5;28;01mNone\u001b[39;00m\n",
      "\u001b[31mNameError\u001b[39m: name 'Path' is not defined"
     ]
    }
   ],
   "source": [
    "%time\n",
    "filename_rs = \"random_search_xgb.pkl\"\n",
    "model_path = Path(PATH_TO_MODEL + filename_rs)\n",
    "\n",
    "\n",
    "def param_search():\n",
    "    return None\n",
    "\n",
    "\n",
    "if model_path.is_file():\n",
    "    xgb_pipe_random = joblib.load(filename=model_path)\n",
    "else:\n",
    "    random_search_xgb = RandomizedSearchCV(\n",
    "        estimator= XGBRegressor(),\n",
    "        param_distributions = dict(\n",
    "            learning_rate=uniform(loc=0.5, scale=3),  # uniform distribution within the interval \n",
    "            n_estimators=randint(low=50, high=300),  # random int within the interval\n",
    "            max_depth=randint(low=2, high=20),\n",
    "            min_child_weight=uniform(loc=0.5, scale=3)\n",
    "        ), \n",
    "        n_iter=1,   # default = 10\n",
    "        verbose=2,\n",
    "        n_jobs=-1,\n",
    "        scoring='r2', \n",
    "    )\n",
    "\n",
    "    #TODO: reasess which model to use for applying hyper-param search\n",
    "    xgb_pipe_random = Pipeline(\n",
    "        steps=[\n",
    "            (\"engineer_features\", engineer_max_features),\n",
    "            (\"xgb_regressor\", RegressorChain(random_search_xgb))\n",
    "            ])\n",
    "\n",
    "    xgb_pipe_random.fit(X_train, y_train)\n",
    "    joblib.dump(value=xgb_pipe_random, filename=model_path)\n",
    "\n",
    "y_pred = xgb_pipe_random.predict(X_test)\n",
    "\n",
    "print(f\"Evaluation table for XGBoost model with randomized hyperparameter search.\")\n",
    "print(evaluation_tabel(\n",
    "    predictions=y_pred, \n",
    "    original_dataset_correlations=sorted_corr_80\n",
    "    ))"
   ]
  }
 ],
 "metadata": {
  "kernelspec": {
   "display_name": "ml_ship",
   "language": "python",
   "name": "python3"
  },
  "language_info": {
   "codemirror_mode": {
    "name": "ipython",
    "version": 3
   },
   "file_extension": ".py",
   "mimetype": "text/x-python",
   "name": "python",
   "nbconvert_exporter": "python",
   "pygments_lexer": "ipython3",
   "version": "3.13.2"
  }
 },
 "nbformat": 4,
 "nbformat_minor": 5
}
